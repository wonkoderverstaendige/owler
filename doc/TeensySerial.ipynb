{
 "cells": [
  {
   "cell_type": "code",
   "execution_count": 1,
   "metadata": {},
   "outputs": [],
   "source": [
    "import serial\n",
    "from serial.tools import list_ports\n",
    "import sys\n",
    "from collections import namedtuple\n",
    "\n",
    "from timeit import default_timer as timer\n",
    "from time import sleep"
   ]
  },
  {
   "cell_type": "code",
   "execution_count": 10,
   "metadata": {},
   "outputs": [
    {
     "data": {
      "text/plain": [
       "'COM5'"
      ]
     },
     "execution_count": 10,
     "metadata": {},
     "output_type": "execute_result"
    }
   ],
   "source": [
    "def find_teensy_port(use_first=False, teensy_vid='16C0', teensy_pid='0483', teensy_ser=None):\n",
    "    stringify = lambda xid: f'{xid:04x}'.upper() if xid else None\n",
    "    \n",
    "    ports = [p for p in list_ports.comports()]\n",
    "    \n",
    "    if teensy_vid is not None:\n",
    "        ports = [p for p in ports if stringify(p.vid) == teensy_vid]\n",
    "    \n",
    "    if teensy_pid is not None:\n",
    "        ports = [p for p in ports if stringify(p.pid) == teensy_pid]\n",
    "    \n",
    "    if len(ports) > 1 and not use_first:\n",
    "        print('Too many devices found! (n={})'.format(len(ports)), file=sys.stderr)\n",
    "        return\n",
    "    \n",
    "    return ports[0]\n",
    "find_teensy_port().device"
   ]
  },
  {
   "cell_type": "code",
   "execution_count": 63,
   "metadata": {},
   "outputs": [],
   "source": [
    "ser = serial.Serial(find_teensy_port().device, baudrate=115200)"
   ]
  },
  {
   "cell_type": "code",
   "execution_count": 79,
   "metadata": {},
   "outputs": [
    {
     "name": "stdout",
     "output_type": "stream",
     "text": [
      "b'!\\r\\n'\n",
      "0.7741376648482401 ms\n"
     ]
    },
    {
     "data": {
      "text/plain": [
       "1"
      ]
     },
     "execution_count": 79,
     "metadata": {},
     "output_type": "execute_result"
    }
   ],
   "source": [
    "ser.write(b'1')\n",
    "\n",
    "start = timer()\n",
    "ser.write(b'S')\n",
    "print(ser.readline())\n",
    "end = timer()\n",
    "\n",
    "print((end-start)*1000, 'ms')\n",
    "\n",
    "ser.write(b'0')"
   ]
  },
  {
   "cell_type": "code",
   "execution_count": 65,
   "metadata": {},
   "outputs": [
    {
     "name": "stdout",
     "output_type": "stream",
     "text": [
      "b'525'\n",
      "b'189'\n",
      "b'196'\n",
      "b'659'\n",
      "b'341'\n",
      "b'353'\n",
      "b'419'\n",
      "b'536'\n",
      "b'1889'\n",
      "b'490'\n"
     ]
    }
   ],
   "source": [
    "for n in range(10):\n",
    "    ser.write(b'S')\n",
    "    ser.flush()\n",
    "    ser.readline()\n",
    "    ser.write(b'R')\n",
    "    print(ser.readline().strip())\n",
    "    sleep(.2)\n",
    "    ser.reset_output_buffer()\n",
    "    ser.reset_input_buffer()"
   ]
  },
  {
   "cell_type": "code",
   "execution_count": 28,
   "metadata": {},
   "outputs": [
    {
     "name": "stdout",
     "output_type": "stream",
     "text": [
      "58.1 µs ± 736 ns per loop (mean ± std. dev. of 7 runs, 10000 loops each)\n"
     ]
    }
   ],
   "source": [
    "%timeit ser.write(b'1')"
   ]
  },
  {
   "cell_type": "code",
   "execution_count": 80,
   "metadata": {},
   "outputs": [],
   "source": [
    "ser.close()"
   ]
  },
  {
   "cell_type": "code",
   "execution_count": null,
   "metadata": {},
   "outputs": [],
   "source": []
  }
 ],
 "metadata": {
  "kernelspec": {
   "display_name": "Python 3",
   "language": "python",
   "name": "python3"
  },
  "language_info": {
   "codemirror_mode": {
    "name": "ipython",
    "version": 3
   },
   "file_extension": ".py",
   "mimetype": "text/x-python",
   "name": "python",
   "nbconvert_exporter": "python",
   "pygments_lexer": "ipython3",
   "version": "3.6.4"
  }
 },
 "nbformat": 4,
 "nbformat_minor": 2
}
