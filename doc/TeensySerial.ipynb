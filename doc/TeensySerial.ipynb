{
 "cells": [
  {
   "cell_type": "code",
   "execution_count": 150,
   "metadata": {},
   "outputs": [],
   "source": [
    "import serial\n",
    "from serial.tools import list_ports\n",
    "import sys\n",
    "from collections import namedtuple\n",
    "\n",
    "from timeit import default_timer as timer\n",
    "from time import sleep"
   ]
  },
  {
   "cell_type": "code",
   "execution_count": 137,
   "metadata": {},
   "outputs": [],
   "source": [
    "def find_teensy_port(use_first=False, teensy_vid='16C0', teensy_pid='0483', teensy_ser=None):\n",
    "    stringify = lambda xid: f'{xid:04x}'.upper() if xid else None\n",
    "    \n",
    "    ports = [p for p in list_ports.comports()]\n",
    "    \n",
    "    if teensy_vid is not None:\n",
    "        ports = [p for p in ports if stringify(p.vid) == teensy_vid]\n",
    "    \n",
    "    if teensy_pid is not None:\n",
    "        ports = [p for p in ports if stringify(p.pid) == teensy_pid]\n",
    "    \n",
    "    if len(ports) > 1 and not use_first:\n",
    "        print('Too many devices found! (n={})'.format(len(ports)), file=sys.stderr)\n",
    "        return\n",
    "    \n",
    "    return ports[0]"
   ]
  },
  {
   "cell_type": "code",
   "execution_count": 138,
   "metadata": {},
   "outputs": [],
   "source": [
    "ser = serial.Serial(find_teensy_port().device)"
   ]
  },
  {
   "cell_type": "code",
   "execution_count": 153,
   "metadata": {},
   "outputs": [
    {
     "name": "stdout",
     "output_type": "stream",
     "text": [
      "0.502622002386488 ms\n"
     ]
    }
   ],
   "source": [
    "start = timer()\n",
    "ser.write(b'1')\n",
    "ser.read()\n",
    "end = timer()\n",
    "print((end-start)*1000, 'ms')"
   ]
  },
  {
   "cell_type": "code",
   "execution_count": 154,
   "metadata": {},
   "outputs": [
    {
     "name": "stdout",
     "output_type": "stream",
     "text": [
      "10000 loops, best of 3: 140 µs per loop\n"
     ]
    }
   ],
   "source": []
  },
  {
   "cell_type": "code",
   "execution_count": null,
   "metadata": {
    "collapsed": true
   },
   "outputs": [],
   "source": []
  }
 ],
 "metadata": {
  "kernelspec": {
   "display_name": "Python 3",
   "language": "python",
   "name": "python3"
  },
  "language_info": {
   "codemirror_mode": {
    "name": "ipython",
    "version": 3
   },
   "file_extension": ".py",
   "mimetype": "text/x-python",
   "name": "python",
   "nbconvert_exporter": "python",
   "pygments_lexer": "ipython3",
   "version": "3.6.1"
  }
 },
 "nbformat": 4,
 "nbformat_minor": 2
}
